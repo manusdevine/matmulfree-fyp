{
  "nbformat": 4,
  "nbformat_minor": 0,
  "metadata": {
    "colab": {
      "provenance": []
    },
    "kernelspec": {
      "name": "python3",
      "display_name": "Python 3"
    },
    "language_info": {
      "name": "python"
    }
  },
  "cells": [
    {
      "cell_type": "markdown",
      "source": [
        "# Simple example of a neural network classifier"
      ],
      "metadata": {
        "id": "nM4qhP12B6S-"
      }
    },
    {
      "cell_type": "markdown",
      "source": [
        "I've put a bunch of code below that:\n",
        "1.   Loads the MNIST dataset of images handwritten digits (0-9)\n",
        "2.   Filters out two digits for classification\n",
        "3.   Converts the labels to zeros and ones\n",
        "4.   Plots some examples of the images we'll classify\n",
        "5.   Defines the Neural Network class, MLP = MultiLayer Perceptron\n",
        "6.   Prepares a dataloader to feed data to the NN during training\n",
        "7.   Trains the neural network\n",
        "8.   Evaluates and plots the performance.\n",
        "\n",
        "I used ChatGPT to generate code to get started, then made changes to it and I'll explain wht each part does below.\n",
        "\n"
      ],
      "metadata": {
        "id": "8AoIT-_ECEGb"
      }
    },
    {
      "cell_type": "markdown",
      "source": [
        "We need the torch and torchvision packages, which we can install using pip from the Jupyter notebook using the ! symbol."
      ],
      "metadata": {
        "id": "Cy7NzoSKC6wq"
      }
    },
    {
      "cell_type": "code",
      "source": [
        "!pip install torch torchvision"
      ],
      "metadata": {
        "colab": {
          "base_uri": "https://localhost:8080/"
        },
        "id": "-zoniHU8704l",
        "outputId": "38dae385-0a83-4e44-deff-7be1a7761ea7"
      },
      "execution_count": 1,
      "outputs": [
        {
          "output_type": "stream",
          "name": "stdout",
          "text": [
            "Requirement already satisfied: torch in /usr/local/lib/python3.10/dist-packages (2.4.1+cu121)\n",
            "Requirement already satisfied: torchvision in /usr/local/lib/python3.10/dist-packages (0.19.1+cu121)\n",
            "Requirement already satisfied: filelock in /usr/local/lib/python3.10/dist-packages (from torch) (3.16.1)\n",
            "Requirement already satisfied: typing-extensions>=4.8.0 in /usr/local/lib/python3.10/dist-packages (from torch) (4.12.2)\n",
            "Requirement already satisfied: sympy in /usr/local/lib/python3.10/dist-packages (from torch) (1.13.2)\n",
            "Requirement already satisfied: networkx in /usr/local/lib/python3.10/dist-packages (from torch) (3.3)\n",
            "Requirement already satisfied: jinja2 in /usr/local/lib/python3.10/dist-packages (from torch) (3.1.4)\n",
            "Requirement already satisfied: fsspec in /usr/local/lib/python3.10/dist-packages (from torch) (2024.6.1)\n",
            "Requirement already satisfied: numpy in /usr/local/lib/python3.10/dist-packages (from torchvision) (1.26.4)\n",
            "Requirement already satisfied: pillow!=8.3.*,>=5.3.0 in /usr/local/lib/python3.10/dist-packages (from torchvision) (10.4.0)\n",
            "Requirement already satisfied: MarkupSafe>=2.0 in /usr/local/lib/python3.10/dist-packages (from jinja2->torch) (2.1.5)\n",
            "Requirement already satisfied: mpmath<1.4,>=1.1.0 in /usr/local/lib/python3.10/dist-packages (from sympy->torch) (1.3.0)\n"
          ]
        }
      ]
    },
    {
      "cell_type": "markdown",
      "source": [
        "Importing everything we need..."
      ],
      "metadata": {
        "id": "owJnikgwDCa4"
      }
    },
    {
      "cell_type": "code",
      "source": [
        "import torch\n",
        "import torch.nn as nn\n",
        "import torch.optim as optim\n",
        "from torch.utils.data import DataLoader, Subset\n",
        "from torchvision import datasets, transforms\n",
        "import numpy as np\n",
        "import matplotlib.pyplot as plt\n",
        "from sklearn.metrics import roc_curve, auc, roc_auc_score\n",
        "from sklearn.model_selection import train_test_split"
      ],
      "metadata": {
        "id": "4gk2kHriA0Jy"
      },
      "execution_count": 20,
      "outputs": []
    },
    {
      "cell_type": "markdown",
      "source": [
        "The code below essentially gets the dataset and makes sure the labels are correct, I've added comments to explain what's going on."
      ],
      "metadata": {
        "id": "iZ5srFppDIm4"
      }
    },
    {
      "cell_type": "code",
      "source": [
        "# this is a transform which we will use to convert the dataset that we get into a pytorch tensor,\n",
        "# which is the data type used in the neural network.\n",
        "# the transforms code comes from torchvision, you can see from the imports\n",
        "# torchvision is a package used alongside pytorch for training neural networks\n",
        "transform = transforms.Compose([transforms.ToTensor()])\n",
        "\n",
        "# Load MNIST training and test datasets\n",
        "# torchvision comes with a datasets package that lets us download different commonly used datasets\n",
        "# we use that below, using our transform function to convert it to a pytorch tensor\n",
        "# we get train and test data separately, because we need data that the network has not seen during training to properly test it\n",
        "mnist_train = datasets.MNIST(root='./data', train=True, download=True, transform=transform)\n",
        "mnist_test = datasets.MNIST(root='./data', train=False, download=True, transform=transform)\n",
        "\n",
        "# Filter the dataset for digits 8 and 9 only\n",
        "# the dataset we download is a bunch of images of digits from 0-9,\n",
        "# we only want two of them, this function extracts the digits we want\n",
        "# idx just needs to be a list of digits we want\n",
        "def filter_digits(dataset, digits):\n",
        "    idx = np.isin(dataset.targets, digits)\n",
        "    dataset.targets = dataset.targets[idx]\n",
        "    dataset.data = dataset.data[idx]\n",
        "    return dataset\n",
        "\n",
        "# use the above function to extract digits 8 and 9\n",
        "mnist_train = filter_digits(mnist_train, [8, 9])\n",
        "mnist_test = filter_digits(mnist_test, [8, 9])\n",
        "\n",
        "# the dataset sets the labels to the truth value of the digit, i.e. 8 and 9\n",
        "# with a NN it's usually standard to use labels 0 adn 1\n",
        "# so we define a function to convert labels: 8 -> 0 (negative class), 9 -> 1 (positive class)\n",
        "def convert_labels(dataset):\n",
        "    dataset.targets = torch.where(dataset.targets == 8, 0, 1)  # 1 -> 0, 9 -> 1\n",
        "    return dataset\n",
        "\n",
        "# and we use the function to define our train and test set\n",
        "mnist_train = convert_labels(mnist_train)\n",
        "mnist_test = convert_labels(mnist_test)"
      ],
      "metadata": {
        "id": "KMB_l-9dA3rD"
      },
      "execution_count": 21,
      "outputs": []
    },
    {
      "cell_type": "code",
      "source": [
        "# Plot some samples of the dataset (digit 1 and 9)\n",
        "def plot_samples(data, targets):\n",
        "    fig, axes = plt.subplots(1, 6, figsize=(10, 4))\n",
        "    for i in range(6):\n",
        "        idx = torch.randint(0, len(data), size=(1,)).item()\n",
        "        axes[i].imshow(data[idx], cmap='gray')\n",
        "        axes[i].set_title(f'Label: {targets[idx].item()}')\n",
        "        axes[i].axis('off')\n",
        "    plt.show()\n",
        "\n",
        "plot_samples(mnist_train.data, mnist_train.targets)"
      ],
      "metadata": {
        "colab": {
          "base_uri": "https://localhost:8080/",
          "height": 170
        },
        "id": "dglzDTSHA7Lq",
        "outputId": "40b903b1-b2fb-4253-8e2f-259c8ca176b2"
      },
      "execution_count": 22,
      "outputs": [
        {
          "output_type": "display_data",
          "data": {
            "text/plain": [
              "<Figure size 1000x400 with 6 Axes>"
            ],
            "image/png": "[encoded data removed]"
          },
          "metadata": {}
        }
      ]
    },
    {
      "cell_type": "code",
      "source": [
        "# here we define the neural network\n",
        "# the images are all images, 28 by 28 pixels each\n",
        "# to put this in the network we flatten it to a vector of size 28*28\n",
        "# in the MLP class below, when an MLP is initialised we define the 'layers' of the network\n",
        "# the first layer must accept a vector of size 28*28, i.e. the whole image\n",
        "# we can have as many layers as we want as long as:\n",
        "#    1 - the last layer has an output of dimension 1\n",
        "#    2 - in the intermediate (hidden) layers, the output dimension of the last must equal the input dimension of the next\n",
        "#        this is so that the data being passed through the network has the correct size (matrix multiplication)\n",
        "# at the very end we then have a sigmoid layer, this just converts the 1 dimensional output of the last layer to a number between 0 and 1\n",
        "# the class then needs to have a 'forward' method, this is what is called when we pass data through a network\n",
        "# it takes in a vector x (in this case it has dimension 28*28)\n",
        "# and passes it sequentially through each layer of the network, and returns the final value\n",
        "# in the MLP class below I started with a network with three layers:\n",
        "#    1 - the input layer fc1\n",
        "#    2 - a hidden layer fc2\n",
        "#    3 - the output layer fc3\n",
        "# but I commented out some code and changed the output dimension of fc1 to 1 (instead of 32)\n",
        "# to convert it to a single layer network, it's just for testing.\n",
        "class MLP(nn.Module):\n",
        "    def __init__(self):\n",
        "        super(MLP, self).__init__()\n",
        "        self.fc1 = nn.Linear(28 * 28, 1)\n",
        "        #self.fc2 = nn.Linear(32, 16)\n",
        "        #self.fc3 = nn.Linear(16, 1)\n",
        "        self.sigmoid = nn.Sigmoid()\n",
        "\n",
        "    def forward(self, x):\n",
        "        x = x.view(-1, 28 * 28)  # Flatten the image\n",
        "        x = torch.relu(self.fc1(x))\n",
        "        #x = torch.relu(self.fc2(x))\n",
        "        #x = self.fc3(x)\n",
        "        x = self.sigmoid(x)\n",
        "        return x"
      ],
      "metadata": {
        "id": "y-PKCF8YA9qp"
      },
      "execution_count": 26,
      "outputs": []
    },
    {
      "cell_type": "code",
      "source": [
        "# dataloaders are just a handy way to feed data to a neural network\n",
        "# we can also use more complicated for loops and index the data ourselves\n",
        "# but this built-in functionality from pytorch is pretty handy\n",
        "# the network training works by:\n",
        "#    1 - pass one part of your training data (a batch) through the network\n",
        "#    2 - compute the loss\n",
        "#    3 - compute the gradients\n",
        "#    4 - update the neural network weights using the gradients\n",
        "#        this moves the network closer to a configuration where the overall loss computed with the data is smaller\n",
        "#        this is monimising the loss\n",
        "# so below we first define the batch_size, the number of images in each batch\n",
        "# the dataloader is then defined to feed the network this number of images each time\n",
        "batch_size = 64\n",
        "train_loader = DataLoader(mnist_train, batch_size=batch_size, shuffle=True)\n",
        "test_loader = DataLoader(mnist_test, batch_size=batch_size, shuffle=False)\n",
        "\n",
        "# below we just check if there is a GPU available on the machine\n",
        "# if there is then we use it, if not we use the CPU\n",
        "# an important feature of pytroch is that data being used always needs to be moved to whatever device is using it\n",
        "# note that every time we instantiate the model below using `model = MLP()`, the weights are reset\n",
        "device = torch.device('cuda' if torch.cuda.is_available() else 'cpu')\n",
        "model = MLP().to(device)\n",
        "\n",
        "# below we define two things:\n",
        "#    1 - the criterion, or the loss function\n",
        "#        this is what we minimise, we take the output of the neural network, a single number x,\n",
        "#        along with the truth labels, and put them into this mathematical function\n",
        "#        it is chosen so that the smaller it is, the closer the network outputs for each image are to the truth labels\n",
        "#    2 - the optimiser\n",
        "#        this is just an algorithm that decides how to update the weights of the network given the gradients that we get from the loss\n",
        "#        no need to worry about this yet, Adam is a very standard choice\n",
        "criterion = nn.BCELoss()  # Binary Cross-Entropy Loss for binary classification\n",
        "optimizer = optim.Adam(model.parameters(), lr=0.001)\n",
        "\n",
        "# below is a training loop for the model\n",
        "# a single epoch is a complete pass through of the whole training dataset\n",
        "# e.g. if there are 1000 batches in our training dataset, the weights would be updated 1000 times\n",
        "# we set num_epochs to 5 here, so that we go through the whole dataset 5 times\n",
        "num_epochs = 5\n",
        "for epoch in range(num_epochs): # loops over each epoch\n",
        "    model.train()               # this puts the MLP model in training mode, and auto-calculates the gradients\n",
        "    running_loss = 0.0          # we want to track how the loss changes as we go\n",
        "    y_true_epoch = []           # we also want to track the performance\n",
        "    y_scores_epoch = []         # \"\"\n",
        "    for images, labels in train_loader:       # loop over each image in the batch\n",
        "        images, labels = images.to(device), labels.to(device).float()   # puts them on the device and ensures correct type\n",
        "\n",
        "        # Forward pass\n",
        "        outputs = model(images).squeeze()     # the images are passed through the network to get an output for each image in the batch\n",
        "        loss = criterion(outputs, labels)     # calculate the loss for each image in the batch\n",
        "\n",
        "        # Backward pass and optimization\n",
        "        optimizer.zero_grad()                 # before updating the weights we reset the optimizer, important!\n",
        "        loss.backward()                       # calculate the gradients from the loss\n",
        "        optimizer.step()                      # we update the weights in the network using the optimizer\n",
        "\n",
        "        running_loss += loss.item()           # we update the running_loss to track it after each batch\n",
        "\n",
        "        # Collect true labels and model probabilities (outputs)\n",
        "        y_true_epoch.extend(labels.cpu().numpy())               #we're tracking the predicted labels after each batch\n",
        "        y_scores_epoch.extend(outputs.detach().cpu().numpy())\n",
        "\n",
        "    # Compute AUC for the epoch\n",
        "    auc_epoch = roc_auc_score(y_true_epoch, y_scores_epoch)\n",
        "\n",
        "    print(f'Epoch [{epoch+1}/{num_epochs}], Loss: {running_loss/len(train_loader):.4f}, AUC: {auc_epoch:.4f}')"
      ],
      "metadata": {
        "colab": {
          "base_uri": "https://localhost:8080/"
        },
        "id": "patJHT348kYy",
        "outputId": "e24c4399-fbbc-4c01-e522-e8ab333ba69a"
      },
      "execution_count": 27,
      "outputs": [
        {
          "output_type": "stream",
          "name": "stdout",
          "text": [
            "Epoch [1/5], Loss: 0.4850, AUC: 0.9446\n",
            "Epoch [2/5], Loss: 0.4067, AUC: 0.9890\n",
            "Epoch [3/5], Loss: 0.3920, AUC: 0.9897\n",
            "Epoch [4/5], Loss: 0.3846, AUC: 0.9897\n",
            "Epoch [5/5], Loss: 0.3801, AUC: 0.9905\n"
          ]
        }
      ]
    },
    {
      "cell_type": "code",
      "source": [
        "# here we compute the ROC curve, that is the TPR and FPR\n",
        "# and we plot TPR vs 1/FPR\n",
        "# these plots are common in particle physics, but in standard ML applications people usually plot FPT vs TPR\n",
        "# we also calculate the AUC again at the end\n",
        "model.eval()\n",
        "y_true = []\n",
        "y_scores = []\n",
        "\n",
        "with torch.no_grad():\n",
        "    for images, labels in test_loader:\n",
        "        images = images.to(device)\n",
        "        outputs = model(images).squeeze().cpu().numpy()\n",
        "        y_scores.extend(outputs)\n",
        "        y_true.extend(labels.numpy())\n",
        "\n",
        "y_true = np.array(y_true)\n",
        "y_scores = np.array(y_scores)\n",
        "\n",
        "# Compute ROC curve and AUC\n",
        "fpr, tpr, _ = roc_curve(y_true, y_scores)\n",
        "roc_auc = auc(fpr, tpr)\n",
        "\n",
        "# 6. Plot ROC curve\n",
        "inv_fpr = np.where(fpr == 0, np.nan, 1 / fpr)  # 1 / FPR, but set FPR = 0 to NaN\n",
        "inv_fpr = np.nan_to_num(inv_fpr, nan=np.inf)   # Replace NaNs with inf for plotting\n",
        "plt.figure()\n",
        "plt.yscale('log')\n",
        "plt.plot(tpr, inv_fpr, color='darkorange', lw=2, label=f'ROC curve (AUC = {roc_auc:.2f})')\n",
        "plt.plot([0, 1], [0, 1], color='navy', lw=2, linestyle='--')\n",
        "plt.xlim([0.0, 1.0])\n",
        "plt.ylim([1.0, 10e5])\n",
        "plt.xlabel('False Positive Rate')\n",
        "plt.ylabel('True Positive Rate')\n",
        "plt.title('Receiver Operating Characteristic (ROC)')\n",
        "plt.legend(loc='lower right')\n",
        "plt.show()"
      ],
      "metadata": {
        "colab": {
          "base_uri": "https://localhost:8080/",
          "height": 507
        },
        "id": "vKUfJ1_w9tCq",
        "outputId": "15452e5f-c833-42be-8d0e-b870aad9c321"
      },
      "execution_count": 28,
      "outputs": [
        {
          "output_type": "stream",
          "name": "stderr",
          "text": [
            "<ipython-input-28-9a35ea167b0f>:24: RuntimeWarning: divide by zero encountered in divide\n",
            "  inv_fpr = np.where(fpr == 0, np.nan, 1 / fpr)  # 1 / FPR, but set FPR = 0 to NaN\n"
          ]
        },
        {
          "output_type": "display_data",
          "data": {
            "text/plain": [
              "<Figure size 640x480 with 1 Axes>"
            ],
            "image/png": "[encoded data removed]"
          },
          "metadata": {}
        }
      ]
    },
    {
      "cell_type": "code",
      "source": [],
      "metadata": {
        "id": "j1kLLaIdARk-"
      },
      "execution_count": null,
      "outputs": []
    }
  ]
}